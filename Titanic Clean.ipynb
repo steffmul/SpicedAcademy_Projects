{
 "cells": [
  {
   "cell_type": "code",
   "execution_count": 1,
   "metadata": {},
   "outputs": [],
   "source": [
    "#Basics\n",
    "import pandas as pd\n",
    "import numpy as np\n",
    "\n",
    "#sklearn\n",
    "from sklearn.model_selection import train_test_split,cross_val_score,GridSearchCV\n",
    "from sklearn.linear_model import LogisticRegression\n",
    "from sklearn.svm import SVC\n",
    "from sklearn.ensemble import RandomForestRegressor,RandomForestClassifier\n",
    "from sklearn.metrics import precision_score, recall_score, confusion_matrix, precision_recall_curve, roc_auc_score\n",
    "\n",
    "# Visualisation\n",
    "import matplotlib.pyplot as plt\n",
    "import seaborn as sns\n",
    "\n",
    "%matplotlib inline\n",
    "sns.set(color_codes=True)\n",
    "pal = sns.color_palette(\"Set2\", 10)\n",
    "sns.set_palette(pal)"
   ]
  },
  {
   "cell_type": "code",
   "execution_count": 2,
   "metadata": {},
   "outputs": [],
   "source": [
    "import warnings\n",
    "warnings.simplefilter(action='ignore', category=FutureWarning)"
   ]
  },
  {
   "cell_type": "markdown",
   "metadata": {},
   "source": [
    "### Load data"
   ]
  },
  {
   "cell_type": "code",
   "execution_count": 3,
   "metadata": {},
   "outputs": [],
   "source": [
    "df = pd.read_csv('train.csv')\n",
    "df_predict = pd.read_csv('predict.csv')"
   ]
  },
  {
   "cell_type": "markdown",
   "metadata": {},
   "source": [
    "### Split data into training and testing sets "
   ]
  },
  {
   "cell_type": "code",
   "execution_count": 4,
   "metadata": {},
   "outputs": [
    {
     "data": {
      "text/plain": [
       "((712, 11), (179, 11))"
      ]
     },
     "execution_count": 4,
     "metadata": {},
     "output_type": "execute_result"
    }
   ],
   "source": [
    "#all columns except survived column\n",
    "X = df.iloc[:,2:]\n",
    "# only survived column\n",
    "y = pd.DataFrame(df['Survived'])\n",
    "Xtrain1, Xtest1, ytrain1,ytest1 = train_test_split(X,y, test_size = 0.2, random_state = 42, stratify =y)\n",
    "df_train = pd.merge(Xtrain1, ytrain1, left_index= True, right_index = True)\n",
    "df_test = pd.merge(Xtest1, ytest1, left_index= True, right_index = True)\n",
    "df_train.shape, df_test.shape"
   ]
  },
  {
   "cell_type": "code",
   "execution_count": 5,
   "metadata": {},
   "outputs": [
    {
     "data": {
      "text/html": [
       "<div>\n",
       "<style scoped>\n",
       "    .dataframe tbody tr th:only-of-type {\n",
       "        vertical-align: middle;\n",
       "    }\n",
       "\n",
       "    .dataframe tbody tr th {\n",
       "        vertical-align: top;\n",
       "    }\n",
       "\n",
       "    .dataframe thead th {\n",
       "        text-align: right;\n",
       "    }\n",
       "</style>\n",
       "<table border=\"1\" class=\"dataframe\">\n",
       "  <thead>\n",
       "    <tr style=\"text-align: right;\">\n",
       "      <th></th>\n",
       "      <th>Pclass</th>\n",
       "      <th>Name</th>\n",
       "      <th>Sex</th>\n",
       "      <th>Age</th>\n",
       "      <th>SibSp</th>\n",
       "      <th>Parch</th>\n",
       "      <th>Ticket</th>\n",
       "      <th>Fare</th>\n",
       "      <th>Cabin</th>\n",
       "      <th>Embarked</th>\n",
       "      <th>Survived</th>\n",
       "    </tr>\n",
       "  </thead>\n",
       "  <tbody>\n",
       "    <tr>\n",
       "      <th>692</th>\n",
       "      <td>3</td>\n",
       "      <td>Lam, Mr. Ali</td>\n",
       "      <td>male</td>\n",
       "      <td>NaN</td>\n",
       "      <td>0</td>\n",
       "      <td>0</td>\n",
       "      <td>1601</td>\n",
       "      <td>56.4958</td>\n",
       "      <td>NaN</td>\n",
       "      <td>S</td>\n",
       "      <td>1</td>\n",
       "    </tr>\n",
       "    <tr>\n",
       "      <th>481</th>\n",
       "      <td>2</td>\n",
       "      <td>Frost, Mr. Anthony Wood \"Archie\"</td>\n",
       "      <td>male</td>\n",
       "      <td>NaN</td>\n",
       "      <td>0</td>\n",
       "      <td>0</td>\n",
       "      <td>239854</td>\n",
       "      <td>0.0000</td>\n",
       "      <td>NaN</td>\n",
       "      <td>S</td>\n",
       "      <td>0</td>\n",
       "    </tr>\n",
       "    <tr>\n",
       "      <th>527</th>\n",
       "      <td>1</td>\n",
       "      <td>Farthing, Mr. John</td>\n",
       "      <td>male</td>\n",
       "      <td>NaN</td>\n",
       "      <td>0</td>\n",
       "      <td>0</td>\n",
       "      <td>PC 17483</td>\n",
       "      <td>221.7792</td>\n",
       "      <td>C95</td>\n",
       "      <td>S</td>\n",
       "      <td>0</td>\n",
       "    </tr>\n",
       "  </tbody>\n",
       "</table>\n",
       "</div>"
      ],
      "text/plain": [
       "     Pclass                              Name   Sex  Age  SibSp  Parch  \\\n",
       "692       3                      Lam, Mr. Ali  male  NaN      0      0   \n",
       "481       2  Frost, Mr. Anthony Wood \"Archie\"  male  NaN      0      0   \n",
       "527       1                Farthing, Mr. John  male  NaN      0      0   \n",
       "\n",
       "       Ticket      Fare Cabin Embarked  Survived  \n",
       "692      1601   56.4958   NaN        S         1  \n",
       "481    239854    0.0000   NaN        S         0  \n",
       "527  PC 17483  221.7792   C95        S         0  "
      ]
     },
     "execution_count": 5,
     "metadata": {},
     "output_type": "execute_result"
    }
   ],
   "source": [
    "df_train.head(3)"
   ]
  },
  {
   "cell_type": "markdown",
   "metadata": {},
   "source": [
    "### Visualization"
   ]
  },
  {
   "cell_type": "code",
   "execution_count": 6,
   "metadata": {},
   "outputs": [
    {
     "data": {
      "image/png": "[encoded data removed]",
      "text/plain": [
       "<Figure size 432x288 with 1 Axes>"
      ]
     },
     "metadata": {
      "needs_background": "light"
     },
     "output_type": "display_data"
    }
   ],
   "source": [
    "# Gender\n",
    "pivot_gender = df_train.pivot_table(index=\"Sex\",values=\"Survived\")\n",
    "pivot_gender.plot.bar()\n",
    "plt.show()"
   ]
  },
  {
   "cell_type": "code",
   "execution_count": 7,
   "metadata": {},
   "outputs": [
    {
     "data": {
      "image/png": "[encoded data removed]",
      "text/plain": [
       "<Figure size 432x288 with 1 Axes>"
      ]
     },
     "metadata": {
      "needs_background": "light"
     },
     "output_type": "display_data"
    }
   ],
   "source": [
    "# Gender & Class\n",
    "pivot_gender = df_train.pivot_table(index=[\"Pclass\",\"Sex\"],values=\"Survived\")\n",
    "pivot_gender.plot.bar()\n",
    "plt.show()"
   ]
  },
  {
   "cell_type": "code",
   "execution_count": 8,
   "metadata": {},
   "outputs": [
    {
     "data": {
      "image/png": "[encoded data removed]",
      "text/plain": [
       "<Figure size 432x288 with 1 Axes>"
      ]
     },
     "metadata": {
      "needs_background": "light"
     },
     "output_type": "display_data"
    }
   ],
   "source": [
    "# Agegroup\n",
    "df_train['Age_group'] =(df_train['Age'] // 10*10)\n",
    "pivot_age = df_train.pivot_table(index=\"Age_group\",values=\"Survived\")\n",
    "pivot_age.plot.bar()\n",
    "plt.show()"
   ]
  },
  {
   "cell_type": "code",
   "execution_count": 9,
   "metadata": {},
   "outputs": [
    {
     "data": {
      "image/png": "[encoded data removed]",
      "text/plain": [
       "<Figure size 432x288 with 1 Axes>"
      ]
     },
     "metadata": {
      "needs_background": "light"
     },
     "output_type": "display_data"
    }
   ],
   "source": [
    "# Class\n",
    "pivot_class= df_train.pivot_table(index=\"Pclass\",values=\"Survived\")\n",
    "pivot_class.plot.bar()\n",
    "plt.show()"
   ]
  },
  {
   "cell_type": "code",
   "execution_count": 10,
   "metadata": {},
   "outputs": [
    {
     "data": {
      "image/png": "[encoded data removed]",
      "text/plain": [
       "<Figure size 432x288 with 1 Axes>"
      ]
     },
     "metadata": {
      "needs_background": "light"
     },
     "output_type": "display_data"
    }
   ],
   "source": [
    "# Title\n",
    "df_train['Titles'] = df_train['Name'].str.split(r'\\s*,\\s*|\\s*\\.\\s*').str[1]\n",
    "pivot_class= df_train.pivot_table(index=\"Titles\",values=\"Survived\")\n",
    "pivot_class.plot.bar()\n",
    "plt.show()\n",
    "df_train.drop(['Titles'], axis=1, inplace=True)\n"
   ]
  },
  {
   "cell_type": "markdown",
   "metadata": {},
   "source": [
    "### Clean Data"
   ]
  },
  {
   "cell_type": "code",
   "execution_count": 11,
   "metadata": {},
   "outputs": [
    {
     "data": {
      "text/html": [
       "<div>\n",
       "<style scoped>\n",
       "    .dataframe tbody tr th:only-of-type {\n",
       "        vertical-align: middle;\n",
       "    }\n",
       "\n",
       "    .dataframe tbody tr th {\n",
       "        vertical-align: top;\n",
       "    }\n",
       "\n",
       "    .dataframe thead th {\n",
       "        text-align: right;\n",
       "    }\n",
       "</style>\n",
       "<table border=\"1\" class=\"dataframe\">\n",
       "  <thead>\n",
       "    <tr style=\"text-align: right;\">\n",
       "      <th></th>\n",
       "      <th>missing</th>\n",
       "      <th>in %</th>\n",
       "    </tr>\n",
       "  </thead>\n",
       "  <tbody>\n",
       "    <tr>\n",
       "      <th>Pclass</th>\n",
       "      <td>0</td>\n",
       "      <td>0.0</td>\n",
       "    </tr>\n",
       "    <tr>\n",
       "      <th>Name</th>\n",
       "      <td>0</td>\n",
       "      <td>0.0</td>\n",
       "    </tr>\n",
       "    <tr>\n",
       "      <th>Sex</th>\n",
       "      <td>0</td>\n",
       "      <td>0.0</td>\n",
       "    </tr>\n",
       "    <tr>\n",
       "      <th>Age</th>\n",
       "      <td>137</td>\n",
       "      <td>19.0</td>\n",
       "    </tr>\n",
       "    <tr>\n",
       "      <th>SibSp</th>\n",
       "      <td>0</td>\n",
       "      <td>0.0</td>\n",
       "    </tr>\n",
       "    <tr>\n",
       "      <th>Parch</th>\n",
       "      <td>0</td>\n",
       "      <td>0.0</td>\n",
       "    </tr>\n",
       "    <tr>\n",
       "      <th>Ticket</th>\n",
       "      <td>0</td>\n",
       "      <td>0.0</td>\n",
       "    </tr>\n",
       "    <tr>\n",
       "      <th>Fare</th>\n",
       "      <td>0</td>\n",
       "      <td>0.0</td>\n",
       "    </tr>\n",
       "    <tr>\n",
       "      <th>Cabin</th>\n",
       "      <td>552</td>\n",
       "      <td>78.0</td>\n",
       "    </tr>\n",
       "    <tr>\n",
       "      <th>Embarked</th>\n",
       "      <td>2</td>\n",
       "      <td>0.0</td>\n",
       "    </tr>\n",
       "    <tr>\n",
       "      <th>Survived</th>\n",
       "      <td>0</td>\n",
       "      <td>0.0</td>\n",
       "    </tr>\n",
       "    <tr>\n",
       "      <th>Age_group</th>\n",
       "      <td>137</td>\n",
       "      <td>19.0</td>\n",
       "    </tr>\n",
       "  </tbody>\n",
       "</table>\n",
       "</div>"
      ],
      "text/plain": [
       "           missing  in %\n",
       "Pclass           0   0.0\n",
       "Name             0   0.0\n",
       "Sex              0   0.0\n",
       "Age            137  19.0\n",
       "SibSp            0   0.0\n",
       "Parch            0   0.0\n",
       "Ticket           0   0.0\n",
       "Fare             0   0.0\n",
       "Cabin          552  78.0\n",
       "Embarked         2   0.0\n",
       "Survived         0   0.0\n",
       "Age_group      137  19.0"
      ]
     },
     "execution_count": 11,
     "metadata": {},
     "output_type": "execute_result"
    }
   ],
   "source": [
    "# missing data\n",
    "miss = df_train.isna().sum()\n",
    "miss_perc =(1-df_train.notnull().mean())*100\n",
    "pd.concat([miss,round(miss_perc)], axis=1,  keys=['missing', 'in %'])"
   ]
  },
  {
   "cell_type": "code",
   "execution_count": 12,
   "metadata": {
    "scrolled": true
   },
   "outputs": [],
   "source": [
    "def cleaning(dataframe):\n",
    "    ### Age \n",
    "    #for dataset in dataframe:\n",
    "    mean = dataframe['Age'].mean()\n",
    "    std = dataframe['Age'].std()\n",
    "    is_null = dataframe['Age'].isnull().sum()\n",
    "    # compute random numbers\n",
    "    rand_age = np.random.randint(mean - std, mean + std, size = is_null)\n",
    "    # fill NaN values in Age column\n",
    "    age_slice = dataframe['Age'].copy()\n",
    "    age_slice[np.isnan(age_slice)] = rand_age\n",
    "    dataframe['Age'] = age_slice\n",
    "    dataframe['Age'] = dataframe['Age'].astype(int)\n",
    "    \n",
    "    ### recoding the gender in two columns\n",
    "    f = dataframe['Sex'] == 'female'\n",
    "    dataframe['Gender'] =f.astype(int)\n",
    "    \n",
    "    ### defining age groups\n",
    "    def agegroup(row):\n",
    "        # age 0-5 \n",
    "        if row < 6:\n",
    "            return 1\n",
    "        # age 6-14 \n",
    "        elif row < 15:\n",
    "            return 2\n",
    "        # age 15-36 \n",
    "        elif row < 37:\n",
    "            return 3\n",
    "        # age 37-55 \n",
    "        elif row < 56:\n",
    "            return 4\n",
    "        # 56-80\n",
    "        elif row < 81:\n",
    "            return 5\n",
    "        else:\n",
    "            return 6\n",
    "    dataframe['Agegroup'] = dataframe['Age'].apply(agegroup)\n",
    "    \n",
    "    ### recoding the cabin into floor\n",
    "    # to get starting letter: df_train['Cabin'].str[:1].unique()\n",
    "    characters = ('N','A','B','C','D','E','F','G','T')\n",
    "    numbers = ('0','1','2','3','4','5','6','7','8')\n",
    "    df_deck = pd.DataFrame(\n",
    "        {'Deck': characters,\n",
    "         'Deck_No': numbers})\n",
    "    #replace NaN with N as cabin\n",
    "    dataframe['Cabin'].fillna('N', inplace=True)\n",
    "    #Cabin indicator as column\n",
    "    dataframe['Deck'] = dataframe['Cabin'].str[:1]\n",
    "    #merge with lookup of level aka deck no\n",
    "    dataframe = pd.merge(dataframe,df_deck, \n",
    "                        on='Deck', \n",
    "                        how='left')\n",
    "    \n",
    "    ### Embarking ports\n",
    "    port_dict = {'Q': 1, 'C': 2, 'S':3 }\n",
    "    dataframe['Ports'] = dataframe['Embarked'].map(port_dict)\n",
    "    dataframe['Ports'] = dataframe['Ports'].fillna(1)\n",
    "    \n",
    "    ### titles\n",
    "    # how it works:  take the substring that is preceded by , (but do not include), \n",
    "    # consists of at least one word character, and ends with a . \n",
    "    dataframe['Title'] = dataframe['Name'].str.split(r'\\s*,\\s*|\\s*\\.\\s*').str[1]\n",
    "    titles_dummies = pd.get_dummies(dataframe['Title'], prefix='Title')\n",
    "    dataframe = pd.concat([dataframe, titles_dummies], axis=1)\n",
    "    \n",
    "    ### \"Women and children first\"\n",
    "    dataframe.loc[( (dataframe['Sex'] == 'female') &     (dataframe['Age'] >= 15) ),    'Category_Code'] = 1\n",
    "    dataframe.loc[( (dataframe['Sex'] == 'male') &     (dataframe['Age'] >= 15)   ),    'Category_Code'] = 2\n",
    "    dataframe.loc[(  dataframe['Age'] < 15                                       ),    'Category_Code'] = 3\n",
    "\n",
    "    return dataframe \n",
    "\n",
    "\n",
    "df_train  = cleaning(df_train)\n",
    "df_test   = cleaning(df_test)\n",
    "    "
   ]
  },
  {
   "cell_type": "code",
   "execution_count": 13,
   "metadata": {},
   "outputs": [],
   "source": [
    "# dropping unused columns\n",
    "def dropping(dataframe):\n",
    "    dataframe.drop(['Sex','Name','Ticket','Cabin','Deck','Embarked'], axis=1, inplace=True)\n",
    "\n",
    "    return dataframe \n",
    "\n",
    "df_train  = dropping(df_train)\n",
    "df_test   = dropping(df_test)"
   ]
  },
  {
   "cell_type": "code",
   "execution_count": null,
   "metadata": {},
   "outputs": [],
   "source": []
  },
  {
   "cell_type": "markdown",
   "metadata": {},
   "source": [
    "### Build a Logistic Regression model"
   ]
  },
  {
   "cell_type": "code",
   "execution_count": 14,
   "metadata": {},
   "outputs": [],
   "source": [
    "# Define X and Y for train data\n",
    "y_train = df_train['Survived']\n",
    "X_train = df_train[['Age', 'Pclass', 'SibSp', 'Parch', 'Fare','Deck_No','Gender',\n",
    "             'Title_Master','Title_Miss','Title_Mr','Title_Mrs','Title_Rev',\n",
    "             'Agegroup','Ports','Category_Code'\n",
    "             ]]\n",
    "\n",
    "\n",
    "m = LogisticRegression()"
   ]
  },
  {
   "cell_type": "code",
   "execution_count": 15,
   "metadata": {},
   "outputs": [
    {
     "data": {
      "text/plain": [
       "LogisticRegression(C=1.0, class_weight=None, dual=False, fit_intercept=True,\n",
       "          intercept_scaling=1, max_iter=100, multi_class='warn',\n",
       "          n_jobs=None, penalty='l2', random_state=None, solver='warn',\n",
       "          tol=0.0001, verbose=0, warm_start=False)"
      ]
     },
     "execution_count": 15,
     "metadata": {},
     "output_type": "execute_result"
    }
   ],
   "source": [
    "m.fit(X_train,y_train)"
   ]
  },
  {
   "cell_type": "code",
   "execution_count": 16,
   "metadata": {},
   "outputs": [
    {
     "data": {
      "text/plain": [
       "(array([1.93938052]),\n",
       " array([[-0.00369927, -0.58442341, -0.44018424, -0.32511648,  0.00525895,\n",
       "          0.2468113 ,  1.74569039,  1.44890122,  0.11570693, -0.96357351,\n",
       "          0.87918968, -0.69095667, -0.34503801, -0.23830687,  0.15846801]]))"
      ]
     },
     "execution_count": 16,
     "metadata": {},
     "output_type": "execute_result"
    }
   ],
   "source": [
    "m.intercept_, m.coef_"
   ]
  },
  {
   "cell_type": "code",
   "execution_count": 17,
   "metadata": {},
   "outputs": [
    {
     "data": {
      "text/plain": [
       "0.8384831460674157"
      ]
     },
     "execution_count": 17,
     "metadata": {},
     "output_type": "execute_result"
    }
   ],
   "source": [
    "m.score(X_train,y_train)"
   ]
  },
  {
   "cell_type": "code",
   "execution_count": 18,
   "metadata": {},
   "outputs": [],
   "source": [
    "# Define X and Y for test data\n",
    "y_test = df_test['Survived']\n",
    "X_test = df_test[['Age', 'Pclass', 'SibSp', 'Parch', 'Fare','Deck_No','Gender',\n",
    "             'Title_Master','Title_Miss','Title_Mr','Title_Mrs','Title_Rev',\n",
    "             'Agegroup','Ports','Category_Code'\n",
    "             ]]\n"
   ]
  },
  {
   "cell_type": "code",
   "execution_count": 19,
   "metadata": {},
   "outputs": [
    {
     "data": {
      "text/plain": [
       "0.8324022346368715"
      ]
     },
     "execution_count": 19,
     "metadata": {},
     "output_type": "execute_result"
    }
   ],
   "source": [
    "m.score(X_test,y_test)"
   ]
  },
  {
   "cell_type": "code",
   "execution_count": 20,
   "metadata": {},
   "outputs": [
    {
     "data": {
      "text/html": [
       "<div>\n",
       "<style scoped>\n",
       "    .dataframe tbody tr th:only-of-type {\n",
       "        vertical-align: middle;\n",
       "    }\n",
       "\n",
       "    .dataframe tbody tr th {\n",
       "        vertical-align: top;\n",
       "    }\n",
       "\n",
       "    .dataframe thead th {\n",
       "        text-align: right;\n",
       "    }\n",
       "</style>\n",
       "<table border=\"1\" class=\"dataframe\">\n",
       "  <thead>\n",
       "    <tr style=\"text-align: right;\">\n",
       "      <th></th>\n",
       "      <th>Survived_No</th>\n",
       "      <th>Survived_Yes</th>\n",
       "    </tr>\n",
       "  </thead>\n",
       "  <tbody>\n",
       "    <tr>\n",
       "      <th>0</th>\n",
       "      <td>0.884477</td>\n",
       "      <td>0.115523</td>\n",
       "    </tr>\n",
       "    <tr>\n",
       "      <th>1</th>\n",
       "      <td>0.846515</td>\n",
       "      <td>0.153485</td>\n",
       "    </tr>\n",
       "    <tr>\n",
       "      <th>2</th>\n",
       "      <td>0.318328</td>\n",
       "      <td>0.681672</td>\n",
       "    </tr>\n",
       "  </tbody>\n",
       "</table>\n",
       "</div>"
      ],
      "text/plain": [
       "   Survived_No  Survived_Yes\n",
       "0     0.884477      0.115523\n",
       "1     0.846515      0.153485\n",
       "2     0.318328      0.681672"
      ]
     },
     "execution_count": 20,
     "metadata": {},
     "output_type": "execute_result"
    }
   ],
   "source": [
    "df_predict=pd.DataFrame(m.predict_proba(X_train), columns = ['Survived_No', 'Survived_Yes'])\n",
    "df_predict.round(decimals=2)\n",
    "df_predict.head(3)"
   ]
  },
  {
   "cell_type": "markdown",
   "metadata": {},
   "source": [
    "### Merge Data"
   ]
  },
  {
   "cell_type": "code",
   "execution_count": 21,
   "metadata": {},
   "outputs": [],
   "source": [
    "df_predict2 = pd.merge(df_test,df_predict, left_index= True, right_index = True)\n",
    "#df_predict2.head(3)"
   ]
  },
  {
   "cell_type": "code",
   "execution_count": 22,
   "metadata": {},
   "outputs": [
    {
     "data": {
      "text/plain": [
       "array([[392,  68],\n",
       "       [ 47, 205]], dtype=int64)"
      ]
     },
     "execution_count": 22,
     "metadata": {},
     "output_type": "execute_result"
    }
   ],
   "source": [
    "y_pred =m.predict(X_train)\n",
    "confusion_matrix(y_pred, y_train)"
   ]
  },
  {
   "cell_type": "code",
   "execution_count": 23,
   "metadata": {},
   "outputs": [
    {
     "data": {
      "text/plain": [
       "0.8134920634920635"
      ]
     },
     "execution_count": 23,
     "metadata": {},
     "output_type": "execute_result"
    }
   ],
   "source": [
    "precision_score(y_pred=y_pred, y_true=y_train)"
   ]
  },
  {
   "cell_type": "code",
   "execution_count": 24,
   "metadata": {},
   "outputs": [
    {
     "data": {
      "text/plain": [
       "0.7509157509157509"
      ]
     },
     "execution_count": 24,
     "metadata": {},
     "output_type": "execute_result"
    }
   ],
   "source": [
    "recall_score(y_true=y_train,y_pred=y_pred)"
   ]
  },
  {
   "cell_type": "markdown",
   "metadata": {},
   "source": [
    "### Precision-Recall-Curve"
   ]
  },
  {
   "cell_type": "code",
   "execution_count": 25,
   "metadata": {},
   "outputs": [
    {
     "data": {
      "image/png": "[encoded data removed]",
      "text/plain": [
       "<Figure size 432x288 with 1 Axes>"
      ]
     },
     "metadata": {
      "needs_background": "light"
     },
     "output_type": "display_data"
    }
   ],
   "source": [
    "y_pred_prob = m.predict_proba(X_train)[:,1]\n",
    "precision, recall, thresholds = precision_recall_curve(y_train, y_pred_prob)\n",
    "\n",
    "plt.plot(precision, recall)\n",
    "plt.xlabel('precision')\n",
    "plt.ylabel('recall')\n",
    "plt.title('Precision-Recall-Curve')\n",
    "plt.show()"
   ]
  },
  {
   "cell_type": "markdown",
   "metadata": {},
   "source": [
    "### Random Forest"
   ]
  },
  {
   "cell_type": "code",
   "execution_count": 26,
   "metadata": {},
   "outputs": [],
   "source": [
    "rf_model = RandomForestRegressor (n_estimators=100, oob_score=True, random_state=42 )"
   ]
  },
  {
   "cell_type": "code",
   "execution_count": 27,
   "metadata": {},
   "outputs": [
    {
     "data": {
      "text/plain": [
       "RandomForestRegressor(bootstrap=True, criterion='mse', max_depth=None,\n",
       "           max_features='auto', max_leaf_nodes=None,\n",
       "           min_impurity_decrease=0.0, min_impurity_split=None,\n",
       "           min_samples_leaf=1, min_samples_split=2,\n",
       "           min_weight_fraction_leaf=0.0, n_estimators=100, n_jobs=None,\n",
       "           oob_score=True, random_state=42, verbose=0, warm_start=False)"
      ]
     },
     "execution_count": 27,
     "metadata": {},
     "output_type": "execute_result"
    }
   ],
   "source": [
    "rf_model.fit(X_test,y_test)"
   ]
  },
  {
   "cell_type": "code",
   "execution_count": 28,
   "metadata": {},
   "outputs": [
    {
     "data": {
      "text/plain": [
       "0.22346145766643621"
      ]
     },
     "execution_count": 28,
     "metadata": {},
     "output_type": "execute_result"
    }
   ],
   "source": [
    "rf_model.oob_score_"
   ]
  },
  {
   "cell_type": "code",
   "execution_count": 29,
   "metadata": {},
   "outputs": [],
   "source": [
    "y_oob = rf_model.oob_prediction_"
   ]
  },
  {
   "cell_type": "code",
   "execution_count": 30,
   "metadata": {},
   "outputs": [
    {
     "data": {
      "text/plain": [
       "('C-stat: ', 0.786627140974967)"
      ]
     },
     "execution_count": 30,
     "metadata": {},
     "output_type": "execute_result"
    }
   ],
   "source": [
    "\"C-stat: \", roc_auc_score(y_test, y_oob)"
   ]
  },
  {
   "cell_type": "markdown",
   "metadata": {},
   "source": [
    "### Crossvalidation"
   ]
  },
  {
   "cell_type": "code",
   "execution_count": 31,
   "metadata": {},
   "outputs": [
    {
     "name": "stdout",
     "output_type": "stream",
     "text": [
      "[ 0.32222857 -0.07987625  0.412925    0.00141538  0.37307401]\n"
     ]
    }
   ],
   "source": [
    "scores = cross_val_score(rf_model, X_test,y_test, cv=5)\n",
    "print(scores)"
   ]
  },
  {
   "cell_type": "code",
   "execution_count": 32,
   "metadata": {},
   "outputs": [
    {
     "name": "stdout",
     "output_type": "stream",
     "text": [
      "0.20595334384037017\n"
     ]
    }
   ],
   "source": [
    "print(sum(scores)/5)"
   ]
  },
  {
   "cell_type": "code",
   "execution_count": 33,
   "metadata": {},
   "outputs": [
    {
     "name": "stdout",
     "output_type": "stream",
     "text": [
      "1 1 0.738095238095238\n",
      "1 2 0.7490476190476192\n",
      "1 3 0.7431746031746032\n",
      "1 4 0.6761904761904762\n",
      "1 5 0.7155555555555555\n",
      "1 6 0.7260317460317461\n",
      "1 7 0.6647619047619047\n",
      "1 8 0.7042857142857143\n",
      "1 9 0.6809523809523809\n",
      "1 10 0.7255555555555555\n",
      "4 1 0.7823809523809524\n",
      "4 2 0.7714285714285715\n",
      "4 3 0.7823809523809524\n",
      "4 4 0.7711111111111112\n",
      "4 5 0.7374603174603175\n",
      "4 6 0.7541269841269841\n",
      "4 7 0.7825396825396825\n",
      "4 8 0.7373015873015873\n",
      "4 9 0.7204761904761906\n",
      "4 10 0.7704761904761905\n",
      "7 1 0.7771428571428571\n",
      "7 2 0.7604761904761904\n",
      "7 3 0.7882539682539682\n",
      "7 4 0.7934920634920635\n",
      "7 5 0.7990476190476191\n",
      "7 6 0.7488888888888889\n",
      "7 7 0.7655555555555555\n",
      "7 8 0.76\n",
      "7 9 0.7376190476190476\n",
      "7 10 0.7484126984126984\n",
      "10 1 0.7825396825396825\n",
      "10 2 0.7771428571428571\n",
      "10 3 0.7882539682539683\n",
      "10 4 0.7990476190476191\n",
      "10 5 0.7711111111111111\n",
      "10 6 0.7985714285714286\n",
      "10 7 0.7657142857142858\n",
      "10 8 0.753968253968254\n",
      "10 9 0.7706349206349208\n",
      "10 10 0.7371428571428572\n",
      "13 1 0.7546031746031746\n",
      "13 2 0.7715873015873016\n",
      "13 3 0.8047619047619048\n",
      "13 4 0.776984126984127\n",
      "13 5 0.7823809523809524\n",
      "13 6 0.8103174603174603\n",
      "13 7 0.7485714285714286\n",
      "13 8 0.7655555555555555\n",
      "13 9 0.7374603174603174\n",
      "13 10 0.7931746031746032\n",
      "16 1 0.7771428571428571\n",
      "16 2 0.7880952380952382\n",
      "16 3 0.7825396825396826\n",
      "16 4 0.7993650793650794\n",
      "16 5 0.7879365079365079\n",
      "16 6 0.7822222222222223\n",
      "16 7 0.7993650793650794\n",
      "16 8 0.7653968253968254\n",
      "16 9 0.7312698412698413\n",
      "16 10 0.7649206349206349\n",
      "19 1 0.7544444444444445\n",
      "19 2 0.7714285714285715\n",
      "19 3 0.7826984126984128\n",
      "19 4 0.8049206349206349\n",
      "19 5 0.8046031746031745\n",
      "19 6 0.7992063492063493\n",
      "19 7 0.7711111111111112\n",
      "19 8 0.7876190476190477\n",
      "19 9 0.7987301587301587\n",
      "19 10 0.7761904761904763\n"
     ]
    }
   ],
   "source": [
    "for ntrees in range(1,20,3):\n",
    "    for depth in range (1,11):\n",
    "        rf_model = RandomForestClassifier(max_depth=depth, n_estimators=ntrees)\n",
    "        scores = cross_val_score(rf_model, X_test,y_test, cv=5)\n",
    "        print(ntrees, depth, sum(scores)/5)"
   ]
  },
  {
   "cell_type": "code",
   "execution_count": 34,
   "metadata": {},
   "outputs": [
    {
     "name": "stderr",
     "output_type": "stream",
     "text": [
      "C:\\Users\\steff\\Anaconda3\\lib\\site-packages\\sklearn\\model_selection\\_search.py:841: DeprecationWarning: The default of the `iid` parameter will change from True to False in version 0.22 and will be removed in 0.24. This will change numeric results when test-set sizes are unequal.\n",
      "  DeprecationWarning)\n"
     ]
    },
    {
     "data": {
      "text/plain": [
       "0.8770949720670391"
      ]
     },
     "execution_count": 34,
     "metadata": {},
     "output_type": "execute_result"
    }
   ],
   "source": [
    "rf_model = RandomForestClassifier(random_state=42)\n",
    "params = {\n",
    "    'max_depth':[2,3,4,5,6],\n",
    "    'n_estimators':[1,3,5,7,10,15,20]\n",
    "}\n",
    "g = GridSearchCV(rf_model, param_grid=params)\n",
    "g.fit (X_test,y_test)\n",
    "g.score(X_test,y_test)"
   ]
  },
  {
   "cell_type": "code",
   "execution_count": 35,
   "metadata": {},
   "outputs": [
    {
     "data": {
      "text/plain": [
       "{'max_depth': 5, 'n_estimators': 5}"
      ]
     },
     "execution_count": 35,
     "metadata": {},
     "output_type": "execute_result"
    }
   ],
   "source": [
    "g.best_params_"
   ]
  },
  {
   "cell_type": "code",
   "execution_count": 36,
   "metadata": {},
   "outputs": [
    {
     "data": {
      "text/plain": [
       "array([[0.78212291, 0.77653631, 0.75418994, 0.76536313, 0.76536313,\n",
       "        0.75977654, 0.75418994],\n",
       "       [0.74301676, 0.77653631, 0.76536313, 0.76536313, 0.78212291,\n",
       "        0.7877095 , 0.78212291],\n",
       "       [0.72625698, 0.74860335, 0.77653631, 0.76536313, 0.78212291,\n",
       "        0.77653631, 0.77094972],\n",
       "       [0.64804469, 0.74301676, 0.79329609, 0.77653631, 0.78212291,\n",
       "        0.77653631, 0.77094972],\n",
       "       [0.6424581 , 0.73184358, 0.7877095 , 0.78212291, 0.76536313,\n",
       "        0.79329609, 0.76536313]])"
      ]
     },
     "execution_count": 36,
     "metadata": {},
     "output_type": "execute_result"
    }
   ],
   "source": [
    "g.cv_results_['mean_test_score'].reshape((5,7))"
   ]
  },
  {
   "cell_type": "code",
   "execution_count": 37,
   "metadata": {},
   "outputs": [
    {
     "data": {
      "text/plain": [
       "<matplotlib.axes._subplots.AxesSubplot at 0x215a4827240>"
      ]
     },
     "execution_count": 37,
     "metadata": {},
     "output_type": "execute_result"
    },
    {
     "data": {
      "image/png": "[encoded data removed]",
      "text/plain": [
       "<Figure size 432x288 with 2 Axes>"
      ]
     },
     "metadata": {
      "needs_background": "light"
     },
     "output_type": "display_data"
    }
   ],
   "source": [
    "mtx= g.cv_results_['mean_test_score'].reshape((5,7))\n",
    "sns.heatmap(mtx)"
   ]
  },
  {
   "cell_type": "code",
   "execution_count": null,
   "metadata": {},
   "outputs": [],
   "source": []
  }
 ],
 "metadata": {
  "kernelspec": {
   "display_name": "Python 3",
   "language": "python",
   "name": "python3"
  },
  "language_info": {
   "codemirror_mode": {
    "name": "ipython",
    "version": 3
   },
   "file_extension": ".py",
   "mimetype": "text/x-python",
   "name": "python",
   "nbconvert_exporter": "python",
   "pygments_lexer": "ipython3",
   "version": "3.7.1"
  }
 },
 "nbformat": 4,
 "nbformat_minor": 2
}
