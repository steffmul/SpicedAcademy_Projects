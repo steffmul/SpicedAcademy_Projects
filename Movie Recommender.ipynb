{
 "cells": [
  {
   "cell_type": "markdown",
   "metadata": {},
   "source": [
    "## Movie Recommender"
   ]
  },
  {
   "cell_type": "code",
   "execution_count": 1,
   "metadata": {},
   "outputs": [],
   "source": [
    "import sqlite3, csv, re, pickle\n",
    "import pandas as pd\n",
    "import numpy as np\n",
    "from sklearn.decomposition import NMF\n",
    "from fuzzywuzzy import process\n",
    "\n",
    "\n",
    "# Visualisation\n",
    "import matplotlib.pyplot as plt\n",
    "import seaborn as sns\n",
    "\n",
    "%matplotlib inline\n",
    "sns.set(color_codes=True)\n",
    "pal = sns.color_palette(\"Set2\", 10)\n",
    "sns.set_palette(pal)"
   ]
  },
  {
   "cell_type": "markdown",
   "metadata": {},
   "source": [
    "#### SQLite DB connection"
   ]
  },
  {
   "cell_type": "code",
   "execution_count": 2,
   "metadata": {},
   "outputs": [
    {
     "data": {
      "text/plain": [
       "<sqlite3.Connection at 0x15bd4a25c70>"
      ]
     },
     "execution_count": 2,
     "metadata": {},
     "output_type": "execute_result"
    }
   ],
   "source": [
    "db =sqlite3.connect('movies2.db')\n",
    "cur = db.cursor()\n",
    "db"
   ]
  },
  {
   "cell_type": "markdown",
   "metadata": {},
   "source": [
    "#### import csv file and insert into db"
   ]
  },
  {
   "cell_type": "code",
   "execution_count": 3,
   "metadata": {},
   "outputs": [
    {
     "data": {
      "text/plain": [
       "'\\n# import movies csv from movielens\\ndb.execute(\"CREATE TABLE IF NOT EXISTS movies (movieId INTEGER NOT NULL PRIMARY KEY, title TEXT,genres TEXT);\") \\n\\nwith open(\\'ml-latest-small/movies.csv\\', encoding=\"utf8\") as csv_file:\\n    #uses first line in file for column headings by default\\n    reader = csv.DictReader(csv_file) # comma is default delimiter\\n    to_db = [(row[\\'movieId\\'], row[\\'title\\'], row[\\'genres\\']) for row in reader]\\n    \\ncur.executemany(\"INSERT INTO movies (movieId, title,genres) VALUES (?, ?, ?);\", to_db)\\ndb.commit()\\n'"
      ]
     },
     "execution_count": 3,
     "metadata": {},
     "output_type": "execute_result"
    }
   ],
   "source": [
    "\"\"\"\n",
    "# import movies csv from movielens\n",
    "db.execute(\"CREATE TABLE IF NOT EXISTS movies (movieId INTEGER NOT NULL PRIMARY KEY, title TEXT,genres TEXT);\") \n",
    "\n",
    "with open('ml-latest-small/movies.csv', encoding=\"utf8\") as csv_file:\n",
    "    #uses first line in file for column headings by default\n",
    "    reader = csv.DictReader(csv_file) # comma is default delimiter\n",
    "    to_db = [(row['movieId'], row['title'], row['genres']) for row in reader]\n",
    "    \n",
    "cur.executemany(\"INSERT INTO movies (movieId, title,genres) VALUES (?, ?, ?);\", to_db)\n",
    "db.commit()\n",
    "\"\"\""
   ]
  },
  {
   "cell_type": "code",
   "execution_count": 4,
   "metadata": {},
   "outputs": [
    {
     "data": {
      "text/plain": [
       "'\\n# import ratings csv from movielens\\ndb.execute(\"CREATE TABLE IF NOT EXISTS ratings (userId INTEGER,movieId INTEGER,rating FLOAT,timestamp TIMESTAMP);\") \\n\\nwith open(\\'ml-latest-small/ratings.csv\\', encoding=\"utf8\") as csv_file:\\n    #uses first line in file for column headings by default\\n    reader = csv.DictReader(csv_file) # comma is default delimiter\\n    to_db = [(row[\\'userId\\'], row[\\'movieId\\'], row[\\'rating\\'],row[\\'timestamp\\']) for row in reader]\\n    \\ncur.executemany(\"INSERT INTO ratings (userId,movieId,rating,timestamp) VALUES (?, ?, ?, ?);\", to_db)\\ndb.commit()\\n'"
      ]
     },
     "execution_count": 4,
     "metadata": {},
     "output_type": "execute_result"
    }
   ],
   "source": [
    "\"\"\"\n",
    "# import ratings csv from movielens\n",
    "db.execute(\"CREATE TABLE IF NOT EXISTS ratings (userId INTEGER,movieId INTEGER,rating FLOAT,timestamp TIMESTAMP);\") \n",
    "\n",
    "with open('ml-latest-small/ratings.csv', encoding=\"utf8\") as csv_file:\n",
    "    #uses first line in file for column headings by default\n",
    "    reader = csv.DictReader(csv_file) # comma is default delimiter\n",
    "    to_db = [(row['userId'], row['movieId'], row['rating'],row['timestamp']) for row in reader]\n",
    "    \n",
    "cur.executemany(\"INSERT INTO ratings (userId,movieId,rating,timestamp) VALUES (?, ?, ?, ?);\", to_db)\n",
    "db.commit()\n",
    "\"\"\""
   ]
  },
  {
   "cell_type": "code",
   "execution_count": null,
   "metadata": {},
   "outputs": [
    {
     "data": {
      "text/plain": [
       "'\\n# import tags csv from movielens\\ndb.execute(\"CREATE TABLE tags (userId INTEGER,movieId INT,tag TEXT,timestamp TIMESTAMP);\") \\n\\nwith open(\\'ml-latest-small/tags.csv\\', encoding=\"utf8\") as csv_file:\\n    #uses first line in file for column headings by default\\n    reader = csv.DictReader(csv_file) # comma is default delimiter\\n    to_db = [(row[\\'userId\\'], row[\\'movieId\\'], row[\\'tag\\'],row[\\'timestamp\\']) for row in reader]\\n    \\ncur.executemany(\"INSERT INTO tags (userId,movieId,tag,timestamp) VALUES (?, ?, ?, ?);\", to_db)\\ndb.commit()\\n'"
      ]
     },
     "execution_count": 5,
     "metadata": {},
     "output_type": "execute_result"
    }
   ],
   "source": [
    "\"\"\"\n",
    "# import tags csv from movielens\n",
    "db.execute(\"CREATE TABLE tags (userId INTEGER,movieId INT,tag TEXT,timestamp TIMESTAMP);\") \n",
    "\n",
    "with open('ml-latest-small/tags.csv', encoding=\"utf8\") as csv_file:\n",
    "    #uses first line in file for column headings by default\n",
    "    reader = csv.DictReader(csv_file) # comma is default delimiter\n",
    "    to_db = [(row['userId'], row['movieId'], row['tag'],row['timestamp']) for row in reader]\n",
    "    \n",
    "cur.executemany(\"INSERT INTO tags (userId,movieId,tag,timestamp) VALUES (?, ?, ?, ?);\", to_db)\n",
    "db.commit()\n",
    "\"\"\""
   ]
  },
  {
   "cell_type": "code",
   "execution_count": null,
   "metadata": {},
   "outputs": [
    {
     "data": {
      "text/plain": [
       "'\\n# import links csv from movielens\\ndb.execute(\"CREATE TABLE links (movieId INTEGER,imdbId INTEGER,tmdbId INTEGER);\") \\n\\nwith open(\\'ml-latest-small/links.csv\\', encoding=\"utf8\") as csv_file:\\n    #uses first line in file for column headings by default\\n    reader = csv.DictReader(csv_file) # comma is default delimiter\\n    to_db = [ (row[\\'movieId\\'], row[\\'imdbId\\'],row[\\'tmdbId\\']) for row in reader]\\n    \\ncur.executemany(\"INSERT INTO links (movieId,imdbId,tmdbId) VALUES (?, ?, ?);\", to_db)\\ndb.commit()\\n'"
      ]
     },
     "execution_count": 6,
     "metadata": {},
     "output_type": "execute_result"
    }
   ],
   "source": [
    "\"\"\"\n",
    "# import links csv from movielens\n",
    "db.execute(\"CREATE TABLE links (movieId INTEGER,imdbId INTEGER,tmdbId INTEGER);\") \n",
    "\n",
    "with open('ml-latest-small/links.csv', encoding=\"utf8\") as csv_file:\n",
    "    #uses first line in file for column headings by default\n",
    "    reader = csv.DictReader(csv_file) # comma is default delimiter\n",
    "    to_db = [ (row['movieId'], row['imdbId'],row['tmdbId']) for row in reader]\n",
    "    \n",
    "cur.executemany(\"INSERT INTO links (movieId,imdbId,tmdbId) VALUES (?, ?, ?);\", to_db)\n",
    "db.commit()\n",
    "\"\"\""
   ]
  },
  {
   "cell_type": "code",
   "execution_count": null,
   "metadata": {},
   "outputs": [
    {
     "name": "stdout",
     "output_type": "stream",
     "text": [
      "('Adventure|Animation|Children|Comedy|Fantasy',)\n",
      "('Adventure|Children|Fantasy',)\n",
      "('Comedy|Romance',)\n",
      "('Comedy|Drama|Romance',)\n",
      "('Comedy',)\n",
      "('Action|Crime|Thriller',)\n",
      "('Comedy|Romance',)\n",
      "('Adventure|Children',)\n",
      "('Action',)\n",
      "('Action|Adventure|Thriller',)\n"
     ]
    }
   ],
   "source": [
    "for row in db.execute(\"SELECT genres FROM movies limit 10;\"):\n",
    "    print(row)"
   ]
  },
  {
   "cell_type": "code",
   "execution_count": null,
   "metadata": {},
   "outputs": [
    {
     "name": "stdout",
     "output_type": "stream",
     "text": [
      "(1, 'Toy Story (1995)', 'Adventure|Animation|Children|Comedy|Fantasy')\n",
      "(2, 'Jumanji (1995)', 'Adventure|Children|Fantasy')\n",
      "(3, 'Grumpier Old Men (1995)', 'Comedy|Romance')\n",
      "(4, 'Waiting to Exhale (1995)', 'Comedy|Drama|Romance')\n",
      "(5, 'Father of the Bride Part II (1995)', 'Comedy')\n"
     ]
    }
   ],
   "source": [
    "# table content from Movies\n",
    "for row in db.execute(\"SELECT * FROM movies ORDER BY ROWID ASC LIMIT 5;\"):\n",
    "    print(row)"
   ]
  },
  {
   "cell_type": "code",
   "execution_count": null,
   "metadata": {},
   "outputs": [],
   "source": [
    "drop = \"\"\"\n",
    "DROP TABLE movies\n",
    "\"\"\"\n",
    "#db.executescript(drop_tags)"
   ]
  },
  {
   "cell_type": "markdown",
   "metadata": {},
   "source": [
    "#### Joining tables with SQL JOINs"
   ]
  },
  {
   "cell_type": "code",
   "execution_count": null,
   "metadata": {
    "scrolled": true
   },
   "outputs": [],
   "source": [
    "sql = \"\"\"SELECT userId,movieId,rating\n",
    "         FROM ratings\n",
    "      \"\"\"\n",
    "cur.execute(sql)\n",
    "data = cur.fetchall()"
   ]
  },
  {
   "cell_type": "code",
   "execution_count": null,
   "metadata": {},
   "outputs": [],
   "source": [
    "sql2 = \"\"\"with rating_sum as \n",
    "                (SELECT  movieId,round(avg(rating),1) as rating, count(rating) as rating_cnt \n",
    "                 FROM ratings \n",
    "                 GROUP BY movieId),\n",
    "                tags_combi as \n",
    "                (SELECT t1.movieId, GROUP_CONCAT(t2.tag) as all_tags\n",
    "                 FROM tags t1 LEFT JOIN  tags t2\n",
    "                 ON t1.movieId = t2.movieId \n",
    "                 GROUP BY t1.movieId)\n",
    "         SELECT \n",
    "              m.movieId, \n",
    "              m.title,\n",
    "              m.genres,\n",
    "              r.rating as rating,\n",
    "              r.rating_cnt as rating_cnt,\n",
    "              t.all_tags,\n",
    "              l.imdbId,\n",
    "              l.tmdbId\n",
    "\n",
    "         \n",
    "         FROM movies m\n",
    "         LEFT JOIN rating_sum r ON (m.movieId=r.movieId)\n",
    "         LEFT JOIN tags_combi t ON (m.movieId=t.movieId)\n",
    "         LEFT JOIN links l ON (m.movieId=l.movieId)\n",
    "\n",
    "\"\"\"\n",
    "cur.execute(sql2)\n",
    "data2 = cur.fetchall()\n",
    "print(data2)"
   ]
  },
  {
   "cell_type": "markdown",
   "metadata": {},
   "source": [
    "#### making a panda dataframe"
   ]
  },
  {
   "cell_type": "code",
   "execution_count": null,
   "metadata": {},
   "outputs": [],
   "source": [
    "df_mov = pd.DataFrame(data2 ,columns=['movie_Id', 'title', 'genres','rating','rating_cnt','tags','imdb_Id','tmdb_Id'])\n",
    "df_mov.head(10)"
   ]
  },
  {
   "cell_type": "code",
   "execution_count": null,
   "metadata": {},
   "outputs": [],
   "source": [
    "def extract_year(title): \n",
    "    pattern='\\(([0-9]{4})\\)'\n",
    "    try:\n",
    "        year = re.findall(pattern, title)[0]\n",
    "    except:\n",
    "        year=1900\n",
    "    return int(year)"
   ]
  },
  {
   "cell_type": "code",
   "execution_count": null,
   "metadata": {},
   "outputs": [],
   "source": [
    "df_mov['year'] = df_mov['title'].apply(extract_year)"
   ]
  },
  {
   "cell_type": "markdown",
   "metadata": {},
   "source": [
    "#### data exploration"
   ]
  },
  {
   "cell_type": "code",
   "execution_count": null,
   "metadata": {},
   "outputs": [],
   "source": [
    "df_mov.describe()"
   ]
  },
  {
   "cell_type": "code",
   "execution_count": null,
   "metadata": {},
   "outputs": [],
   "source": [
    "df_mov.hist(column='rating')"
   ]
  },
  {
   "cell_type": "code",
   "execution_count": null,
   "metadata": {
    "scrolled": true
   },
   "outputs": [],
   "source": [
    "df_mov['rating_cnt'].plot.hist(bins=[0, 1, 2, 3, 4, 5, 6, 8, 10, 15, 20, 30, 100], xlim=(0,50)) "
   ]
  },
  {
   "cell_type": "code",
   "execution_count": null,
   "metadata": {},
   "outputs": [],
   "source": [
    "df_mov.hist(column='year' ,bins=100)"
   ]
  },
  {
   "cell_type": "markdown",
   "metadata": {},
   "source": [
    "#### Feature engineering\n"
   ]
  },
  {
   "cell_type": "code",
   "execution_count": null,
   "metadata": {
    "scrolled": true
   },
   "outputs": [],
   "source": [
    "df_mov.genres = pd.Categorical(df_mov.genres)\n",
    "df_mov['genre_id']= df_mov.genres.astype('category').cat.codes\n",
    "df_mov.head()"
   ]
  },
  {
   "cell_type": "markdown",
   "metadata": {},
   "source": [
    "#### NMF model for ratings data"
   ]
  },
  {
   "cell_type": "code",
   "execution_count": null,
   "metadata": {},
   "outputs": [],
   "source": [
    "# creating input for model from ratings table\n",
    "df_rat = pd.DataFrame(data ,columns=['user_Id','movie_Id','rating'])\n",
    "df_rat = df_rat.set_index(['user_Id','movie_Id'])\n",
    "df_rat = df_rat.unstack(1)\n",
    "df_rat = df_rat.fillna(df_rat.mean())\n",
    "df_rat.shape"
   ]
  },
  {
   "cell_type": "code",
   "execution_count": null,
   "metadata": {},
   "outputs": [],
   "source": [
    "df_org = df_rat.copy()\n",
    "\n",
    "nmf = NMF(n_components=3)\n",
    "nmf.fit(df_rat)"
   ]
  },
  {
   "cell_type": "code",
   "execution_count": null,
   "metadata": {},
   "outputs": [],
   "source": [
    "# Pickle\n",
    "binary = pickle.dumps(nmf)\n",
    "open('nmf_model.bin', 'wb').write(binary)"
   ]
  },
  {
   "cell_type": "code",
   "execution_count": null,
   "metadata": {},
   "outputs": [],
   "source": [
    "binary = open('nmf_model.bin', 'rb').read()\n",
    "nmf = pickle.loads(binary)"
   ]
  },
  {
   "cell_type": "code",
   "execution_count": null,
   "metadata": {},
   "outputs": [],
   "source": [
    "P = nmf.transform(df_rat)\n",
    "Q = nmf.components_\n",
    "print(P.shape, Q.shape)"
   ]
  },
  {
   "cell_type": "code",
   "execution_count": null,
   "metadata": {},
   "outputs": [],
   "source": [
    "nR = np.dot(P, Q)\n",
    "df_out = pd.DataFrame(nR )\n",
    "df_out.head()"
   ]
  },
  {
   "cell_type": "code",
   "execution_count": null,
   "metadata": {},
   "outputs": [],
   "source": [
    "### predict new movies \n",
    "process.extractOne('Star Trek ', df_mov['title'])"
   ]
  },
  {
   "cell_type": "markdown",
   "metadata": {},
   "source": [
    "#### user input"
   ]
  },
  {
   "cell_type": "code",
   "execution_count": null,
   "metadata": {
    "scrolled": true
   },
   "outputs": [],
   "source": [
    "movie1 = input(\"Name two movies and how you liked them \\n \\n Your first movie? \")\n",
    "movie2 = input(\"Your second movie? \")\n",
    "print('\\n **** thank you! I am processinging your input now ***')\n",
    "movie1_c = process.extractOne( movie1, df_mov['title'])\n",
    "movie2_c = process.extractOne( movie2, df_mov['title'])\n",
    "\n",
    "print('\\nYou said: ', movie1,' and ', movie2, \n",
    "      '\\n I found these matching movies in my database:\\n',  \n",
    "      movie1_c[0],' with a ',movie1_c[1],'% matching score \\n and ',\n",
    "      movie2_c[0],' with a ',movie2_c[1],'% matching score')\n",
    "\n",
    "print('\\n On a scale from 1 to 5 how would you rate \\n',movie1_c[0], ':')\n",
    "while True:\n",
    "    try:\n",
    "        rating1 = float(input('rating (0-5): '))\n",
    "        if rating1 < 0 or rating1 > 5:\n",
    "            raise ValueError #this will send it to the print message and back to the input option\n",
    "        break\n",
    "    except ValueError:\n",
    "        print(\"Invalid input. The number must be in the range of 0-5.\")\n",
    "        \n",
    "print('\\n and now: ',movie2_c[0])\n",
    "while True:\n",
    "    try:\n",
    "        rating2 = float(input('rating (0-5): '))\n",
    "        if rating2 < 0 or rating2 > 5:\n",
    "            raise ValueError #this will send it to the print message and back to the input option\n",
    "        break\n",
    "    except ValueError:\n",
    "        print(\"Invalid input. The number must be in the range of 0-5.\")"
   ]
  },
  {
   "cell_type": "markdown",
   "metadata": {},
   "source": [
    "#### adding user to old dataframe\n"
   ]
  },
  {
   "cell_type": "code",
   "execution_count": null,
   "metadata": {},
   "outputs": [],
   "source": [
    "df_out.tail(3)"
   ]
  },
  {
   "cell_type": "code",
   "execution_count": null,
   "metadata": {},
   "outputs": [],
   "source": [
    "df_out = df_out.append(pd.Series([np.nan]), ignore_index = True)\n",
    "df_out.tail(1)"
   ]
  },
  {
   "cell_type": "code",
   "execution_count": null,
   "metadata": {},
   "outputs": [],
   "source": [
    "# lookup movie id from moview df\n",
    "id_returned1 = df_mov.loc[df_mov['title'] == movie1_c[0], 'movie_Id']\n",
    "id_returned2 = df_mov.loc[df_mov['title'] == movie2_c[0], 'movie_Id']"
   ]
  },
  {
   "cell_type": "code",
   "execution_count": null,
   "metadata": {},
   "outputs": [],
   "source": [
    "pd.options.mode.chained_assignment = None\n",
    "df_out.iloc[-1, df_pred2.columns.get_loc(int(id_returned1))] = rating1\n",
    "df_out.iloc[-1, df_pred2.columns.get_loc(int(id_returned2))] = rating2"
   ]
  },
  {
   "cell_type": "code",
   "execution_count": null,
   "metadata": {},
   "outputs": [],
   "source": [
    "df_pred1 = df_out.tail(1)\n",
    "df_out = df_out.fillna(df_out.mean())\n",
    "df_pred2 = df_out.tail(1)\n",
    "df_out.drop(df_out.tail(1).index,inplace=True)"
   ]
  },
  {
   "cell_type": "code",
   "execution_count": null,
   "metadata": {},
   "outputs": [],
   "source": [
    "df_pred2"
   ]
  },
  {
   "cell_type": "code",
   "execution_count": null,
   "metadata": {},
   "outputs": [],
   "source": [
    "df_pred1"
   ]
  },
  {
   "cell_type": "code",
   "execution_count": null,
   "metadata": {},
   "outputs": [],
   "source": [
    "df_out.tail(2)"
   ]
  },
  {
   "cell_type": "code",
   "execution_count": null,
   "metadata": {},
   "outputs": [],
   "source": [
    "df_pred = pd.concat([pd.DataFrame(df_pred1.T), pd.DataFrame(df_pred2.T)],\n",
    "                          axis=1, \n",
    "                          ignore_index=True)\n",
    "\n",
    "df_pred = df_pred.join(df_mov['title'])"
   ]
  },
  {
   "cell_type": "code",
   "execution_count": null,
   "metadata": {},
   "outputs": [],
   "source": [
    "# filter movies from users \n",
    "filtered = df_pred.loc[df_pred[0].isnull()]\n",
    "filtered = filtered[filtered.columns[-2:]]\n",
    "filtered.sort_values(by=[1], ascending=False).head(10)"
   ]
  },
  {
   "cell_type": "code",
   "execution_count": null,
   "metadata": {},
   "outputs": [],
   "source": []
  },
  {
   "cell_type": "code",
   "execution_count": null,
   "metadata": {},
   "outputs": [],
   "source": []
  }
 ],
 "metadata": {
  "kernelspec": {
   "display_name": "Python 3",
   "language": "python",
   "name": "python3"
  },
  "language_info": {
   "codemirror_mode": {
    "name": "ipython",
    "version": 3
   },
   "file_extension": ".py",
   "mimetype": "text/x-python",
   "name": "python",
   "nbconvert_exporter": "python",
   "pygments_lexer": "ipython3",
   "version": "3.7.1"
  }
 },
 "nbformat": 4,
 "nbformat_minor": 2
}
