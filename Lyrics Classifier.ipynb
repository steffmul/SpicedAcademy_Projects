{
 "cells": [
  {
   "cell_type": "code",
   "execution_count": 1,
   "metadata": {},
   "outputs": [],
   "source": [
    "#basic\n",
    "import requests\n",
    "import pandas as pd\n",
    "import time\n",
    "import numpy as np\n",
    "from pathlib import Path\n",
    "\n",
    "# Topic Modeling\n",
    "from sklearn.decomposition import LatentDirichletAllocation\n",
    "from sklearn.feature_extraction.text import CountVectorizer, TfidfTransformer\n",
    "\n",
    "#scraping\n",
    "from bs4 import BeautifulSoup\n",
    "\n",
    "# text & nlp\n",
    "import re\n",
    "import string\n",
    "import wordcloud\n",
    "import spacy\n",
    "from collections import Counter\n",
    "\n",
    "#visualization\n",
    "from matplotlib import pyplot as plt\n",
    "%matplotlib inline"
   ]
  },
  {
   "cell_type": "code",
   "execution_count": 2,
   "metadata": {},
   "outputs": [],
   "source": [
    "df_artist = pd.DataFrame(columns=[\"name\", \"url\"], \n",
    "                         data=[\n",
    "                               #[\"Frank+Ocean\", \"https://www.lyrics.com/artist.php?name=Frank-Ocean&aid=2295304&o=1\"],\n",
    "                               #[\"REM\",\"https://www.lyrics.com/artist.php?name=R.E.M.&aid=116437&o=1\"],\n",
    "                               [\"Robyn\",\"https://www.lyrics.com/artist.php?name=Robyn&aid=214508&o=1\"]\n",
    "                              ])"
   ]
  },
  {
   "cell_type": "code",
   "execution_count": 3,
   "metadata": {},
   "outputs": [],
   "source": [
    "root = Path(\"C:/Users/steff/Documents/DataScience Bootcamp/Spiced Week 4/\", \"lyrics\")\n",
    "# df = pd.read_csv(root / 'data1.csv')\n",
    "# df "
   ]
  },
  {
   "cell_type": "code",
   "execution_count": 4,
   "metadata": {},
   "outputs": [],
   "source": [
    "# get artists pages\n",
    "def get_artist_page(url):\n",
    "    response = requests.get(url)\n",
    "    # parse html\n",
    "    page = str(BeautifulSoup(response.content))\n",
    "    soup = BeautifulSoup( page, \"lxml\")\n",
    "    return soup "
   ]
  },
  {
   "cell_type": "code",
   "execution_count": 5,
   "metadata": {},
   "outputs": [],
   "source": [
    "# get_urls via beautifulsoup\n",
    "def get_urls(soup):\n",
    "    lyrics = []\n",
    "    tables = soup.find_all(class_='tdata')\n",
    "    for t in tables:\n",
    "        cells = t.find_all('td', class_=\"tal qx\")\n",
    "        for c in cells:\n",
    "            links = c.find_all('a')\n",
    "            for l in links:\n",
    "                lyrics.append((l['href']))\n",
    "    return lyrics"
   ]
  },
  {
   "cell_type": "code",
   "execution_count": 6,
   "metadata": {},
   "outputs": [],
   "source": [
    "# remove collaborations etc\n",
    "def clean_urls(lyrics, artist):\n",
    "    #convert into dataframe\n",
    "    df_lyrics = pd.DataFrame(lyrics)\n",
    "    #remove digits\n",
    "    # makes error df_lyrics = re.sub('\\d', '', df_lyrics[0])\n",
    "    #only sung by artist\n",
    "    df_lyrics = df_lyrics[df_lyrics[0].str.contains(artist)]\n",
    "    return df_lyrics"
   ]
  },
  {
   "cell_type": "code",
   "execution_count": 7,
   "metadata": {},
   "outputs": [],
   "source": [
    "# function to generate a text based on the song name from the URL \n",
    "def filename(link):\n",
    "    filename = l.rsplit('/', 2)[-2]+'_'+l.rsplit('/', 2)[-1]\n",
    "    filename = re.sub('[^a-zA-Z0-9-_*.]', '', filename)\n",
    "    return filename"
   ]
  },
  {
   "cell_type": "code",
   "execution_count": 8,
   "metadata": {},
   "outputs": [],
   "source": [
    "# save lyrics html pages locally\n",
    "def parse_lyrics(df_lyrics):\n",
    "    df_url = df_lyrics['url']\n",
    "    # parse all lyrics  and save as html files\n",
    "    for l in df_url:\n",
    "        time.sleep(10)\n",
    "        url = df_url\n",
    "        response = requests.get(l)\n",
    "        page = BeautifulSoup(response.content)\n",
    "        page = page.prettify(\"utf-8\")\n",
    "        filename = l.rsplit('/', 2)[-2]+'_'+l.rsplit('/', 2)[-1]\n",
    "        filename = re.sub('[^a-zA-Z0-9-_*.]', '', filename)\n",
    "        with open(root / f'Lyrics_{filename}.html', \"wb\") as file:\n",
    "            file.write(page)\n",
    "    return 'ok'"
   ]
  },
  {
   "cell_type": "code",
   "execution_count": 9,
   "metadata": {},
   "outputs": [],
   "source": [
    "# function to clean html bodies\n",
    "def cleaning(soup):\n",
    "    # filter only for body with lyrics\n",
    "    lyric = soup.find(class_='lyric-body').get_text()\n",
    "    #replace abc't \n",
    "    lyric = lyric.replace('\\'t','t')\n",
    "    #replace line breaks\n",
    "    lyric = lyric.replace('\\n',' ')\n",
    "    #replace â\n",
    "    lyric = lyric.replace('â','')\n",
    "    #replace inã\n",
    "    lyric = lyric.replace('inã','ing')\n",
    "    # remove words shorter than 3 characters\n",
    "    shortword = re.compile(r'\\W*\\b\\w{1,3}\\b')\n",
    "    lyric = shortword.sub('', lyric)\n",
    "    # convert into lower caps\n",
    "    lyric = lyric.lower()\n",
    "    # exclude numbers\n",
    "    #lyric = ''.join(i for i in lyric if not i.isdigit())\n",
    "    # special characters\n",
    "    chars = re.escape(string.punctuation)\n",
    "    lyric = re.sub(r'['+chars+']', '',lyric)\n",
    "    return lyric"
   ]
  },
  {
   "cell_type": "code",
   "execution_count": null,
   "metadata": {},
   "outputs": [],
   "source": [
    "# webscraping the lyrics\n",
    "pd.set_option('display.max_colwidth', -1)\n",
    "url = df_artist['url']\n",
    "\n",
    "for index, row in df_artist.iterrows():\n",
    "    # 1:  get artist page\n",
    "    soup = get_artist_page(row['url'])\n",
    "    \n",
    "    # 2: get lyrics urls\n",
    "    lyrics = get_urls(soup)\n",
    "    \n",
    "    # 3: clean urls only for lyrics etc\n",
    "    df_lyrics = pd.DataFrame(lyrics)\n",
    "    artist = row['name']\n",
    "    clean_urls(lyrics,artist)\n",
    "    df_lyrics = df_lyrics[df_lyrics[0].str.contains('lyric')]\n",
    "    df_lyrics['url'] ='https://www.lyrics.com'+df_lyrics[0]\n",
    "    \n",
    "    # 4: save lyrics files locally\n",
    "    parse_lyrics(df_lyrics)"
   ]
  },
  {
   "cell_type": "code",
   "execution_count": null,
   "metadata": {},
   "outputs": [],
   "source": [
    "df_lyrics"
   ]
  },
  {
   "cell_type": "code",
   "execution_count": null,
   "metadata": {},
   "outputs": [],
   "source": [
    "def purly_from_artist(artist,url):\n",
    "    check = url.find(artist)>0\n",
    "    return check"
   ]
  },
  {
   "cell_type": "code",
   "execution_count": null,
   "metadata": {},
   "outputs": [],
   "source": [
    "for l in df_lyrics['url']:\n",
    "    for i in df_artist['name']:\n",
    "            check = l.find(i)>0\n",
    "            df_lyrics[i]= check"
   ]
  },
  {
   "cell_type": "code",
   "execution_count": null,
   "metadata": {},
   "outputs": [],
   "source": [
    "purly_from_artist('Frank-Ocean','https://www.lyrics.com/artist.php?name=Frank-Ocean&aid=2295304&o=1')"
   ]
  },
  {
   "cell_type": "code",
   "execution_count": null,
   "metadata": {},
   "outputs": [],
   "source": [
    "df[df_lyrics['name'].map(lambda x: str(x)l.find(i)<0\".\")]"
   ]
  },
  {
   "cell_type": "code",
   "execution_count": null,
   "metadata": {},
   "outputs": [],
   "source": [
    "for a in df_artist:\n",
    "    if \n",
    "for i in df_lyrics: \n",
    "    #print(df_lyrics['url'])\n",
    "    #print(df_lyrics['url'].str.contains('Robyn'))\n",
    "    df_lyrics['pure']= df_lyrics['url'].str.contains('Robyn')\n",
    "df_lyrics.tail(20)"
   ]
  },
  {
   "cell_type": "code",
   "execution_count": null,
   "metadata": {},
   "outputs": [],
   "source": [
    "df_lyrics"
   ]
  },
  {
   "cell_type": "code",
   "execution_count": null,
   "metadata": {},
   "outputs": [],
   "source": [
    "df3 = df3.drop(df3[df_lyrics.score < 50].index)\n"
   ]
  },
  {
   "cell_type": "code",
   "execution_count": null,
   "metadata": {},
   "outputs": [],
   "source": [
    "df_lyrics2 = pd.DataFrame(lyrics)"
   ]
  },
  {
   "cell_type": "code",
   "execution_count": null,
   "metadata": {},
   "outputs": [],
   "source": [
    "df_lyrics2"
   ]
  },
  {
   "cell_type": "code",
   "execution_count": null,
   "metadata": {},
   "outputs": [],
   "source": [
    "def clean_urls2(lyrics):\n",
    "    #convert into dataframe\n",
    "    df_lyrics = pd.DataFrame(lyrics)\n",
    "    #keep only lyrics links\n",
    "    df_lyrics = df_lyrics[df_lyrics[0].str.contains('lyric')]\n",
    "    #remove digits\n",
    "    #df_lyrics = re.sub('\\d', '', df_lyrics[0])\n",
    "    #create full url\n",
    "    df_lyrics['url'] ='https://www.lyrics.com'+df_lyrics[0]\n",
    "    return df_lyrics"
   ]
  },
  {
   "cell_type": "code",
   "execution_count": null,
   "metadata": {},
   "outputs": [],
   "source": [
    "clean_urls2(lyrics,artist)"
   ]
  },
  {
   "cell_type": "code",
   "execution_count": null,
   "metadata": {},
   "outputs": [],
   "source": [
    "df_lyrics\n",
    "#    = re.sub('\\d', '', df_lyrics[0])\n"
   ]
  },
  {
   "cell_type": "code",
   "execution_count": null,
   "metadata": {},
   "outputs": [],
   "source": []
  }
 ],
 "metadata": {
  "kernelspec": {
   "display_name": "Python 3",
   "language": "python",
   "name": "python3"
  },
  "language_info": {
   "codemirror_mode": {
    "name": "ipython",
    "version": 3
   },
   "file_extension": ".py",
   "mimetype": "text/x-python",
   "name": "python",
   "nbconvert_exporter": "python",
   "pygments_lexer": "ipython3",
   "version": "3.7.1"
  }
 },
 "nbformat": 4,
 "nbformat_minor": 2
}
